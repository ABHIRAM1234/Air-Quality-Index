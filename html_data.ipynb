{
 "cells": [
  {
   "cell_type": "markdown",
   "metadata": {},
   "source": [
    "#### In this notebook we will perform data scraping which is the process of importing information or extracting data from a website(HTML program)"
   ]
  },
  {
   "cell_type": "code",
   "execution_count": 1,
   "metadata": {},
   "outputs": [],
   "source": [
    "#Importing the required libraries\n",
    "import os\n",
    "import time\n",
    "import requests\n",
    "import sys"
   ]
  },
  {
   "cell_type": "code",
   "execution_count": 2,
   "metadata": {},
   "outputs": [
    {
     "data": {
      "text/plain": [
       "'\\nData buffer is a region of physical memory storage used to temporarily store data while it is being moved from one \\nplace to another. Python’s standard out is buffered.This means that it collects some data before it is written to standard out and when the buffer gets filled, then \\nit is written on the terminal or any other output stream.\\n'"
      ]
     },
     "execution_count": 2,
     "metadata": {},
     "output_type": "execute_result"
    }
   ],
   "source": [
    "def retrieve_html():\n",
    "    for year in range(2013,2019): #Weather data from 2013 to 2018\n",
    "        for month in range(1,13): #12 months\n",
    "            if(month<10): #For month<10 the month is written as 04 or 01 with zero before the month\n",
    "                url='http://en.tutiempo.net/climate/0{}-{}/ws-421820.html'.format(month,year)\n",
    "            else: \n",
    "                url='http://en.tutiempo.net/climate/{}-{}/ws-421820.html'.format(month,year)\n",
    "            texts=requests.get(url) #GET request to the specified url.\n",
    "            text_utf=texts.text.encode('utf=8') #encoding the string\n",
    "            \n",
    "            if not os.path.exists(\"C:/Users/Abhiram/ML/Data Science Projects/Air Quality Index/Data/Html_data/{}\".format(year)):\n",
    "                os.makedirs(\"C:/Users/Abhiram/ML/Data Science Projects/Air Quality Index/Data/Html_data/{}\".format(year))\n",
    "            with open(\"C:/Users/Abhiram/ML/Data Science Projects/Air Quality Index/Data/Html_data/{}/{}.html\".format(year,month),\"wb\") as output:\n",
    "                output.write(text_utf)\n",
    "            #wb - write byte\n",
    "        sys.stdout.flush()\n",
    "\n",
    "'''\n",
    "Data buffer is a region of physical memory storage used to temporarily store data while it is being moved from one \n",
    "place to another. Python’s standard out is buffered.This means that it collects some data before it is written to standard out and when the buffer gets filled, then \n",
    "it is written on the terminal or any other output stream.\n",
    "'''\n"
   ]
  },
  {
   "cell_type": "code",
   "execution_count": 3,
   "metadata": {},
   "outputs": [
    {
     "name": "stdout",
     "output_type": "stream",
     "text": [
      "Time taken 87.06104183197021\n"
     ]
    }
   ],
   "source": [
    "if __name__ == \"__main__\":\n",
    "    start_time = time.time()\n",
    "    retrieve_html()\n",
    "    stop_time = time.time()\n",
    "    print(\"Time taken {}\".format(stop_time-start_time))#Measuring the time it takes to extract the data"
   ]
  },
  {
   "cell_type": "code",
   "execution_count": null,
   "metadata": {},
   "outputs": [],
   "source": []
  }
 ],
 "metadata": {
  "kernelspec": {
   "display_name": "Python 3",
   "language": "python",
   "name": "python3"
  },
  "language_info": {
   "codemirror_mode": {
    "name": "ipython",
    "version": 3
   },
   "file_extension": ".py",
   "mimetype": "text/x-python",
   "name": "python",
   "nbconvert_exporter": "python",
   "pygments_lexer": "ipython3",
   "version": "3.8.3"
  }
 },
 "nbformat": 4,
 "nbformat_minor": 4
}
