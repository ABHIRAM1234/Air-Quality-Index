{
 "cells": [
  {
   "cell_type": "code",
   "execution_count": 1,
   "metadata": {},
   "outputs": [],
   "source": [
    "import import_ipynb\n",
    "import requests\n",
    "import sys\n",
    "import pandas as pd\n",
    "from bs4 import BeautifulSoup #Library for HTML parse\n",
    "import os\n",
    "import csv"
   ]
  },
  {
   "cell_type": "code",
   "execution_count": 2,
   "metadata": {},
   "outputs": [
    {
     "name": "stdout",
     "output_type": "stream",
     "text": [
      "importing Jupyter notebook from AQI_Plot.ipynb\n"
     ]
    }
   ],
   "source": [
    "from AQI_Plot import avg_data_2013,avg_data_2014,avg_data_2015,avg_data_2016,avg_data_2017,avg_data_2018 \n",
    "#Importing functions from AQI_Plot"
   ]
  },
  {
   "cell_type": "code",
   "execution_count": 3,
   "metadata": {},
   "outputs": [],
   "source": [
    "def meta_data(month, year):\n",
    "    \n",
    "    html_path = open('Data/Html_Data/{}/{}.html'.format(year,month), 'rb') #rb-read byte\n",
    "    plain_text = html_path.read()\n",
    "\n",
    "    tempData = [] \n",
    "    finalData = []\n",
    "\n",
    "    soup = BeautifulSoup(plain_text, \"lxml\")\n",
    "    for table in soup.findAll('table', {'class': 'medias mensuales numspan'}): #Table Tag(Class), we need only the table\n",
    "        for tbody in table: #table body\n",
    "            for tr in tbody: #table row\n",
    "                a = tr.get_text() \n",
    "                tempData.append(a) #Appending the data to tempData variable\n",
    "\n",
    "    rows = len(tempData) / 15  #Finding the number of rows, every row has 15 rows\n",
    "\n",
    "    for times in range(round(rows)): #iterate through every row\n",
    "        newtempData = []\n",
    "        for i in range(15):\n",
    "            newtempData.append(tempData[0]) #append every value from data\n",
    "            tempData.pop(0)\n",
    "        finalData.append(newtempData)\n",
    "\n",
    "    length = len(finalData)\n",
    "\n",
    "    finalData.pop(length - 1)\n",
    "    finalData.pop(0)\n",
    "\n",
    "    for a in range(len(finalData)): #Dropping certain columns which are not required and not filled in the html\n",
    "        finalData[a].pop(6)\n",
    "        finalData[a].pop(13)\n",
    "        finalData[a].pop(12)\n",
    "        finalData[a].pop(11)\n",
    "        finalData[a].pop(10)\n",
    "        finalData[a].pop(9)\n",
    "        finalData[a].pop(0)\n",
    "\n",
    "    return finalData\n"
   ]
  },
  {
   "cell_type": "code",
   "execution_count": 4,
   "metadata": {},
   "outputs": [],
   "source": [
    "def data_combine(year, cs):\n",
    "    for a in pd.read_csv('Data/Real-Data/real_' + str(year) + '.csv', chunksize=cs):\n",
    "        df = pd.DataFrame(data=a)\n",
    "        mylist = df.values.tolist()\n",
    "    return mylist"
   ]
  },
  {
   "cell_type": "code",
   "execution_count": 5,
   "metadata": {},
   "outputs": [],
   "source": [
    "if __name__ == \"__main__\":\n",
    "    if not os.path.exists(\"Data/Real-Data\"):\n",
    "        os.makedirs(\"Data/Real-Data\")\n",
    "    for year in range(2013, 2019):\n",
    "        final_data = []\n",
    "        with open('Data/Real-Data/real_' + str(year) + '.csv', 'w') as csvfile:\n",
    "            wr = csv.writer(csvfile, dialect='excel')\n",
    "            wr.writerow(\n",
    "                ['T', 'TM', 'Tm', 'SLP', 'H', 'VV', 'V', 'VM', 'PM 2.5'])\n",
    "        for month in range(1, 13):\n",
    "            temp = meta_data(month, year)\n",
    "            final_data = final_data + temp\n",
    "            \n",
    "        pm = getattr(sys.modules[__name__], 'avg_data_{}'.format(year))()\n",
    "\n",
    "        if len(pm) == 364:\n",
    "            pm.insert(364, '-')\n",
    "\n",
    "        for i in range(len(final_data)-1):\n",
    "            # final[i].insert(0, i + 1)\n",
    "            final_data[i].insert(8, pm[i])\n",
    "\n",
    "        with open('Data/Real-Data/real_' + str(year) + '.csv', 'a') as csvfile:\n",
    "            wr = csv.writer(csvfile, dialect='excel')\n",
    "            for row in final_data:\n",
    "                flag = 0\n",
    "                for elem in row:\n",
    "                    if elem == \"\" or elem == \"-\":\n",
    "                        flag = 1\n",
    "                if flag != 1:\n",
    "                    wr.writerow(row)\n",
    "                    \n",
    "    data_2013 = data_combine(2013, 600)\n",
    "    data_2014 = data_combine(2014, 600)\n",
    "    data_2015 = data_combine(2015, 600)\n",
    "    data_2016 = data_combine(2016, 600)\n",
    "    data_2017 = data_combine(2016, 600)\n",
    "    data_2018 = data_combine(2016, 600)\n",
    "\n",
    "    \n",
    "    total=data_2013+data_2014+data_2015+data_2016+data_2017+data_2018\n",
    "    \n",
    "    with open('Data/Real-Data/Real_Combine.csv', 'w') as csvfile:\n",
    "        wr = csv.writer(csvfile, dialect='excel')\n",
    "        wr.writerow(\n",
    "            ['T', 'TM', 'Tm', 'SLP', 'H', 'VV', 'V', 'VM', 'PM 2.5'])\n",
    "        wr.writerows(total)"
   ]
  },
  {
   "cell_type": "code",
   "execution_count": 6,
   "metadata": {},
   "outputs": [],
   "source": [
    "df=pd.read_csv('Data/Real-Data/Real_Combine.csv')"
   ]
  },
  {
   "cell_type": "code",
   "execution_count": null,
   "metadata": {},
   "outputs": [],
   "source": []
  }
 ],
 "metadata": {
  "kernelspec": {
   "display_name": "Python 3",
   "language": "python",
   "name": "python3"
  },
  "language_info": {
   "codemirror_mode": {
    "name": "ipython",
    "version": 3
   },
   "file_extension": ".py",
   "mimetype": "text/x-python",
   "name": "python",
   "nbconvert_exporter": "python",
   "pygments_lexer": "ipython3",
   "version": "3.8.3"
  }
 },
 "nbformat": 4,
 "nbformat_minor": 4
}
